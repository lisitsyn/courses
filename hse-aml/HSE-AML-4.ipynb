{
 "cells": [
  {
   "cell_type": "code",
   "execution_count": 3,
   "metadata": {
    "slideshow": {
     "slide_type": "skip"
    }
   },
   "outputs": [],
   "source": [
    "%matplotlib inline\n",
    "import matplotlib.pyplot as plt\n",
    "import numpy as np\n",
    "import scipy.optimize as opt\n",
    "import sklearn.linear_model\n",
    "import sklearn.model_selection\n",
    "import pandas as pd\n",
    "from sklearn.datasets import load_iris\n",
    "from IPython.display import Markdown as md\n",
    "import warnings\n",
    "warnings.filterwarnings(\"ignore\")"
   ]
  },
  {
   "cell_type": "markdown",
   "metadata": {
    "slideshow": {
     "slide_type": "slide"
    }
   },
   "source": [
    "# Applied Machine Learning\n",
    "\n",
    "### Estimating overfitting, bootstrapping, and ensembles"
   ]
  },
  {
   "cell_type": "markdown",
   "metadata": {
    "slideshow": {
     "slide_type": "slide"
    }
   },
   "source": [
    "### Train/test split\n",
    "\n",
    "- Our main goal is to measure performance properly\n",
    "- Model perfect on the train set might be useless on the test set\n",
    "- We never train on test data, re-using it makes it impossible to estimate the actual quality"
   ]
  },
  {
   "cell_type": "markdown",
   "metadata": {
    "slideshow": {
     "slide_type": "slide"
    }
   },
   "source": [
    "### Who splits the data?\n",
    "\n",
    "- Sometimes it is you\n",
    "- In Kaggle you have the split made for you\n",
    "- Good practice: the manager sets up the test set\n",
    "\n",
    "- Data available for:\n",
    "\n",
    "  Manager: train features, train labels, test features, test labels\n",
    "  \n",
    "  Data scientist: train features, train labels, test features\n",
    "   "
   ]
  },
  {
   "cell_type": "markdown",
   "metadata": {
    "slideshow": {
     "slide_type": "slide"
    }
   },
   "source": [
    "### Pitfalls\n",
    "\n",
    "- Train/test is usually 80/20 but it could change if you have extreme sizes\n",
    "- Train and test (ideally) should come from the same distribution\n",
    "- Choosing your model based on test is actually quite wrong"
   ]
  },
  {
   "cell_type": "markdown",
   "metadata": {
    "slideshow": {
     "slide_type": "slide"
    }
   },
   "source": [
    "### The proper split: train | validation/development (public leaderboard) | test (private leaderboard)\n",
    "\n",
    "- When we use test set score multiple time, we actually overfit\n",
    "- We need an additional dataset\n",
    "- In practice, you can't use test only once\n",
    "- Be very careful making decision based on test set score"
   ]
  },
  {
   "cell_type": "markdown",
   "metadata": {
    "slideshow": {
     "slide_type": "slide"
    }
   },
   "source": [
    "### Do the distributions of test and train match?\n",
    "\n",
    "- Theory is sure to make them identically distributed\n",
    "- In practice they might differ\n",
    "- e.g. test could contain images from all around the world but train could have images only from your office"
   ]
  },
  {
   "cell_type": "markdown",
   "metadata": {
    "slideshow": {
     "slide_type": "slide"
    }
   },
   "source": [
    "### Statistical estimators and ML\n",
    "\n",
    "- In statistics, we often estimate something: means, variances, differences of means, ...\n",
    "- To see ML models as estimators just use any metric: MSE, accuracy, ...\n",
    "- Estimators have two important properties: bias and variance"
   ]
  },
  {
   "cell_type": "markdown",
   "metadata": {
    "slideshow": {
     "slide_type": "slide"
    }
   },
   "source": [
    "### Bias-variance tradeoff\n",
    "\n",
    "- We can decompose e.g. the squared error:\n",
    "$$\n",
    "\\mathop{E} \\left[(y - \\hat y)^2\\right] = (\\mathop{E}[y] - \\hat y)^2 + (\\mathop{E}[y]^2 - \\mathop{E}[\\hat y]^2) + \\mathsf{irreducible~error}\n",
    "$$\n",
    "- The $(\\mathop{E}[y] - \\hat y)$ term is called bias\n",
    "- The $(\\mathop{E}[y]^2 - \\mathop{E}[\\hat y]^2)$ term is called variance\n",
    "- There is a tradeoff as you can't have both low bias and low variance"
   ]
  },
  {
   "cell_type": "markdown",
   "metadata": {
    "slideshow": {
     "slide_type": "slide"
    }
   },
   "source": [
    "### Estimator with high bias"
   ]
  },
  {
   "cell_type": "code",
   "execution_count": 16,
   "metadata": {},
   "outputs": [
    {
     "data": {
      "image/png": "[encoded data removed]",
      "text/plain": [
       "<Figure size 432x288 with 1 Axes>"
      ]
     },
     "metadata": {
      "needs_background": "light"
     },
     "output_type": "display_data"
    }
   ],
   "source": [
    "def biased_estimator(values):\n",
    "    return (values.sum()) / (len(values)) \n",
    "\n",
    "ys = [biased_estimator(np.random.randn(i) + 1.0) for i in range(10, 5000, 50)]\n",
    "plt.plot(ys); plt.grid()"
   ]
  },
  {
   "cell_type": "markdown",
   "metadata": {
    "slideshow": {
     "slide_type": "slide"
    }
   },
   "source": [
    "### Practical biased estimator: Laplace smoothing"
   ]
  },
  {
   "cell_type": "markdown",
   "metadata": {},
   "source": [
    "- What's the probability of a digit in a sequence?\n",
    "- Say the digit `7` never occured in a sequence of length 100, unbiased probability gets 0\n",
    "- Let's smooth (regularize) the probability using prior probability of (1/10):"
   ]
  },
  {
   "cell_type": "code",
   "execution_count": 22,
   "metadata": {},
   "outputs": [
    {
     "data": {
      "text/plain": [
       "9.99000999000999e-05"
      ]
     },
     "execution_count": 22,
     "metadata": {},
     "output_type": "execute_result"
    }
   ],
   "source": [
    "(0) / (10000) # unbiased\n",
    "(0 + 1) / (10000 + 10) # biased \"pseudocounts\"\n",
    "\n",
    "number of sevens (123123432556324234232412321...312312 + 1234567890)"
   ]
  },
  {
   "cell_type": "markdown",
   "metadata": {
    "slideshow": {
     "slide_type": "slide"
    }
   },
   "source": [
    "### Estimator with high variance"
   ]
  },
  {
   "cell_type": "code",
   "execution_count": 24,
   "metadata": {},
   "outputs": [
    {
     "data": {
      "image/png": "[encoded data removed]",
      "text/plain": [
       "<Figure size 432x288 with 1 Axes>"
      ]
     },
     "metadata": {
      "needs_background": "light"
     },
     "output_type": "display_data"
    }
   ],
   "source": [
    "def high_variance_estimator(sample):\n",
    "    return sample.max() - sample.min()\n",
    "\n",
    "ys = [high_variance_estimator(np.random.randn(i)) for i in range(50, 1000, 50)]\n",
    "plt.plot(ys); plt.grid()"
   ]
  },
  {
   "cell_type": "markdown",
   "metadata": {
    "slideshow": {
     "slide_type": "slide"
    }
   },
   "source": [
    "### Bias/variance in ML\n",
    "\n",
    "- High bias means the model never can't fit well enough\n",
    "- High variance means the model is unstable in fitting it well\n",
    "- Linear models have high ...? \n",
    "- Decision trees have high ...?"
   ]
  },
  {
   "cell_type": "markdown",
   "metadata": {
    "slideshow": {
     "slide_type": "slide"
    }
   },
   "source": [
    "### Bias/variance in ML\n",
    "\n",
    "- Reducing bias usually means changing your model somehow\n",
    "- Reducing variance is possible other way\n",
    "- Hint: averaging helps"
   ]
  },
  {
   "cell_type": "markdown",
   "metadata": {
    "slideshow": {
     "slide_type": "slide"
    }
   },
   "source": [
    "### Bootstrap\n",
    "\n",
    "- An useful *practical* trick to assign some accuracy to estimators\n",
    "- The method is based on sampling *with replacement*"
   ]
  },
  {
   "cell_type": "code",
   "execution_count": 32,
   "metadata": {},
   "outputs": [
    {
     "data": {
      "text/plain": [
       "[2, 3, 3, 1, 1, 3, 2, 2, 3, 1]"
      ]
     },
     "execution_count": 32,
     "metadata": {},
     "output_type": "execute_result"
    }
   ],
   "source": [
    "list(pd.Series([1, 2, 3]).sample(n=10, replace=True))#.mean() # not biased"
   ]
  },
  {
   "cell_type": "code",
   "execution_count": 7,
   "metadata": {
    "slideshow": {
     "slide_type": "slide"
    }
   },
   "outputs": [
    {
     "data": {
      "image/png": "[encoded data removed]",
      "text/plain": [
       "<Figure size 432x288 with 1 Axes>"
      ]
     },
     "metadata": {
      "needs_background": "light"
     },
     "output_type": "display_data"
    }
   ],
   "source": [
    "df = pd.read_csv('adult.csv')\n",
    "df.age.plot.hist();"
   ]
  },
  {
   "cell_type": "code",
   "execution_count": 8,
   "metadata": {},
   "outputs": [
    {
     "name": "stdout",
     "output_type": "stream",
     "text": [
      "Mean age is 38.581647+-[?]\n"
     ]
    }
   ],
   "source": [
    "print(\"Mean age is %f+-[?]\" % (df.age.mean()))"
   ]
  },
  {
   "cell_type": "markdown",
   "metadata": {
    "slideshow": {
     "slide_type": "slide"
    }
   },
   "source": [
    "Generate slightly different dataset with sampling with replacement:"
   ]
  },
  {
   "cell_type": "code",
   "execution_count": 9,
   "metadata": {},
   "outputs": [
    {
     "data": {
      "text/plain": [
       "38.49586929148368"
      ]
     },
     "execution_count": 9,
     "metadata": {},
     "output_type": "execute_result"
    }
   ],
   "source": [
    "df.sample(frac=1.0, replace=True).age.mean()"
   ]
  },
  {
   "cell_type": "markdown",
   "metadata": {
    "slideshow": {
     "slide_type": "slide"
    }
   },
   "source": [
    "Generate differents slightly datasets a few times:"
   ]
  },
  {
   "cell_type": "code",
   "execution_count": 10,
   "metadata": {},
   "outputs": [
    {
     "data": {
      "text/plain": [
       "[62, 64, 73, 60, 67, 73, 65, 75, 84, 66]"
      ]
     },
     "execution_count": 10,
     "metadata": {},
     "output_type": "execute_result"
    }
   ],
   "source": [
    "maxes = []\n",
    "for _ in range(800):\n",
    "    maxes.append(df.sample(frac=0.001, replace=True).age.max())\n",
    "maxes[:10]"
   ]
  },
  {
   "cell_type": "markdown",
   "metadata": {
    "slideshow": {
     "slide_type": "slide"
    }
   },
   "source": [
    "The histogram of generated maxes:"
   ]
  },
  {
   "cell_type": "code",
   "execution_count": 11,
   "metadata": {},
   "outputs": [
    {
     "data": {
      "image/png": "[encoded data removed]",
      "text/plain": [
       "<Figure size 432x288 with 1 Axes>"
      ]
     },
     "metadata": {
      "needs_background": "light"
     },
     "output_type": "display_data"
    }
   ],
   "source": [
    "plt.hist(maxes);"
   ]
  },
  {
   "cell_type": "markdown",
   "metadata": {
    "slideshow": {
     "slide_type": "slide"
    }
   },
   "source": [
    "### Confidence interval\n",
    "\n",
    "- Bootstrapping makes CI really easy\n",
    "- Given confidence level $p = 0.95$"
   ]
  },
  {
   "cell_type": "code",
   "execution_count": 12,
   "metadata": {},
   "outputs": [
    {
     "data": {
      "text/plain": [
       "(51.0, 90.0)"
      ]
     },
     "execution_count": 12,
     "metadata": {},
     "output_type": "execute_result"
    }
   ],
   "source": [
    "p = 100\n",
    "np.percentile(maxes, (100.0 - p) / 2.0), np.percentile(maxes, (100.0 + p) / 2.0)"
   ]
  },
  {
   "cell_type": "markdown",
   "metadata": {
    "slideshow": {
     "slide_type": "slide"
    }
   },
   "source": [
    "### Bootstrapping in machine learning\n",
    "\n",
    "- We can create a few samples with bootstrapping\n",
    "- This might be helpful"
   ]
  },
  {
   "cell_type": "markdown",
   "metadata": {
    "slideshow": {
     "slide_type": "slide"
    }
   },
   "source": [
    "### The Condorcet's jury theorem\n",
    "\n",
    "- There is a jury of $N$ individuals that make some decision\n",
    "- The final decision is reached by majority vote\n",
    "- The decision is either right or wrong\n",
    "- How does the probability of correct decision changes if we change $N$?"
   ]
  },
  {
   "cell_type": "markdown",
   "metadata": {
    "slideshow": {
     "slide_type": "slide"
    }
   },
   "source": [
    "### Averaging models\n",
    "\n",
    "- We need a few models that are somehow different and independent\n",
    "- Each model should be just good enough\n",
    "- The more models we have, the better score we get\n",
    "- Straightforward if we have a few training sets"
   ]
  },
  {
   "cell_type": "markdown",
   "metadata": {
    "slideshow": {
     "slide_type": "slide"
    }
   },
   "source": [
    "### Bagging\n",
    "\n",
    "- Bootstrap AGGregatING\n",
    "- We use bootstrap to generate a few datasets\n",
    "- On each dataset, we train a model\n",
    "- These models form an ensemble:\n",
    "$$f(x) = \\mathop{avg}_{i} f_i(x)$$"
   ]
  },
  {
   "cell_type": "markdown",
   "metadata": {
    "slideshow": {
     "slide_type": "slide"
    }
   },
   "source": [
    "### Random Forest\n",
    "\n",
    "- An instance of bagging, in which we use decision trees\n",
    "- One of the most popular algorithms\n",
    "- Works out of box most of the time\n",
    "- One slight detail - drop random features in each classifier"
   ]
  },
  {
   "cell_type": "code",
   "execution_count": 13,
   "metadata": {},
   "outputs": [],
   "source": [
    "from sklearn.ensemble import RandomForestClassifier"
   ]
  },
  {
   "cell_type": "code",
   "execution_count": 14,
   "metadata": {
    "slideshow": {
     "slide_type": "slide"
    }
   },
   "outputs": [
    {
     "data": {
      "image/png": "[encoded data removed]",
      "text/plain": [
       "<Figure size 432x288 with 1 Axes>"
      ]
     },
     "metadata": {
      "needs_background": "light"
     },
     "output_type": "display_data"
    }
   ],
   "source": [
    "X,y = make_moons(100, noise=0.1)\n",
    "plt.scatter(X[:, 0], X[:, 1], c=y, cmap='coolwarm')\n",
    "rx, ry = np.linspace(X[:,0].min(), X[:,0].max(), 50), np.linspace(X[:,1].min(), X[:,1].max(), 50)\n",
    "inputs = np.dstack(np.meshgrid(rx, ry))\n",
    "rf = RandomForestClassifier(n_estimators=100).fit(X, y)\n",
    "pc = np.apply_along_axis(lambda x: rf.predict([x]), 2, inputs)\n",
    "plt.contourf(rx, ry, pc[:,:,0], alpha=0.3, cmap='coolwarm');"
   ]
  },
  {
   "cell_type": "markdown",
   "metadata": {
    "slideshow": {
     "slide_type": "slide"
    }
   },
   "source": [
    "### Boosting\n",
    "\n",
    "- Other way to learn a few independent classifiers\n",
    "- Iterative algorithm\n",
    "- We learn $f_1$ to fit the labels\n",
    "- We learn $f_2$ to fit the errors between predictions of $f_1$ and $y$ (residual)\n",
    "- ....\n",
    "- Final model $\\mathsf{avg}_{i} f_i$"
   ]
  },
  {
   "cell_type": "markdown",
   "metadata": {
    "slideshow": {
     "slide_type": "slide"
    }
   },
   "source": [
    "### Gradient Boosting\n",
    "\n",
    "- There is a pure beauty analogy between this algorithm and gradient descent\n",
    "- The difference (residual) is actually the gradient of your loss function\n",
    "- We will discuss the 'gradient' part later\n",
    "- Each 'base' classifier is usually a tree, but can be a linear model (AdaBoost)"
   ]
  },
  {
   "cell_type": "code",
   "execution_count": 15,
   "metadata": {},
   "outputs": [],
   "source": [
    "from sklearn.ensemble import GradientBoostingClassifier"
   ]
  },
  {
   "cell_type": "code",
   "execution_count": 16,
   "metadata": {
    "slideshow": {
     "slide_type": "slide"
    }
   },
   "outputs": [
    {
     "data": {
      "image/png": "[encoded data removed]",
      "text/plain": [
       "<Figure size 432x288 with 1 Axes>"
      ]
     },
     "metadata": {
      "needs_background": "light"
     },
     "output_type": "display_data"
    }
   ],
   "source": [
    "X,y = make_moons(100, noise=0.1)\n",
    "plt.scatter(X[:, 0], X[:, 1], c=y, cmap='coolwarm')\n",
    "rx, ry = np.linspace(X[:,0].min(), X[:,0].max(), 50), np.linspace(X[:,1].min(), X[:,1].max(), 50)\n",
    "inputs = np.dstack(np.meshgrid(rx, ry))\n",
    "rf = GradientBoostingClassifier(n_estimators=100).fit(X, y)\n",
    "pc = np.apply_along_axis(lambda x: rf.predict([x]), 2, inputs)\n",
    "plt.contourf(rx, ry, pc[:,:,0], alpha=0.3, cmap='coolwarm');"
   ]
  },
  {
   "cell_type": "markdown",
   "metadata": {
    "slideshow": {
     "slide_type": "slide"
    }
   },
   "source": [
    "### Gradient tree boosting\n",
    "\n",
    "- xgboost\n",
    "- CatBoost\n",
    "- LightGBM\n",
    "\n",
    "These all are easy to install and have almost identical interface"
   ]
  },
  {
   "cell_type": "markdown",
   "metadata": {
    "slideshow": {
     "slide_type": "slide"
    }
   },
   "source": [
    "### Hyperparameters\n",
    "\n",
    "- Depth: gradient boosting needs much less than random forest\n",
    "- Number of trees: a few hundreds usually suffice"
   ]
  },
  {
   "cell_type": "markdown",
   "metadata": {
    "slideshow": {
     "slide_type": "slide"
    }
   },
   "source": [
    "### Next time\n",
    "\n",
    "- Recommenders\n",
    "- Embeddings"
   ]
  },
  {
   "cell_type": "markdown",
   "metadata": {
    "slideshow": {
     "slide_type": "slide"
    }
   },
   "source": [
    "### Self-assessment time!\n",
    "\n",
    "- Why do we need to split the data into three parts?\n",
    "- Some person is old-fashioned in many senses. It is an example of **a) high bias b) high variance c) low bias d) low variance**\n",
    "- You flipped a coin twice and it is Tails-Tails. **What's the probability, really?** \n",
    "- Random forest is usually fastest to learn, **why?**\n",
    "- You trained a gradient boosting model but your most important feature is now broken. **What is going to happen?**"
   ]
  }
 ],
 "metadata": {
  "celltoolbar": "Slideshow",
  "kernelspec": {
   "display_name": "Python 3 (ipykernel)",
   "language": "python",
   "name": "python3"
  },
  "language_info": {
   "codemirror_mode": {
    "name": "ipython",
    "version": 3
   },
   "file_extension": ".py",
   "mimetype": "text/x-python",
   "name": "python",
   "nbconvert_exporter": "python",
   "pygments_lexer": "ipython3",
   "version": "3.9.7"
  }
 },
 "nbformat": 4,
 "nbformat_minor": 2
}
