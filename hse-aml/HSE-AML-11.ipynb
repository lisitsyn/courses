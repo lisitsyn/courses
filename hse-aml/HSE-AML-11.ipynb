{
 "cells": [
  {
   "cell_type": "code",
   "execution_count": 1,
   "metadata": {
    "slideshow": {
     "slide_type": "skip"
    }
   },
   "outputs": [],
   "source": [
    "%matplotlib inline\n",
    "import matplotlib.pyplot as plt\n",
    "import numpy as np\n",
    "import pandas as pd\n",
    "import catboost\n",
    "import datetime\n",
    "import warnings\n",
    "warnings.filterwarnings('ignore')"
   ]
  },
  {
   "cell_type": "markdown",
   "metadata": {
    "slideshow": {
     "slide_type": "slide"
    }
   },
   "source": [
    "# Applied Machine Learning\n",
    "\n",
    "## Models and production"
   ]
  },
  {
   "cell_type": "markdown",
   "metadata": {
    "slideshow": {
     "slide_type": "slide"
    }
   },
   "source": [
    "Let's train a model on Heart Disease data (https://archive.ics.uci.edu/ml/datasets/Heart+Disease)"
   ]
  },
  {
   "cell_type": "code",
   "execution_count": 2,
   "metadata": {},
   "outputs": [
    {
     "data": {
      "text/html": [
       "<div>\n",
       "<style scoped>\n",
       "    .dataframe tbody tr th:only-of-type {\n",
       "        vertical-align: middle;\n",
       "    }\n",
       "\n",
       "    .dataframe tbody tr th {\n",
       "        vertical-align: top;\n",
       "    }\n",
       "\n",
       "    .dataframe thead th {\n",
       "        text-align: right;\n",
       "    }\n",
       "</style>\n",
       "<table border=\"1\" class=\"dataframe\">\n",
       "  <thead>\n",
       "    <tr style=\"text-align: right;\">\n",
       "      <th></th>\n",
       "      <th>age</th>\n",
       "      <th>sex</th>\n",
       "      <th>cp</th>\n",
       "      <th>trestbps</th>\n",
       "      <th>chol</th>\n",
       "      <th>fbs</th>\n",
       "      <th>restecg</th>\n",
       "      <th>thalach</th>\n",
       "      <th>exang</th>\n",
       "      <th>oldpeak</th>\n",
       "      <th>slope</th>\n",
       "      <th>ca</th>\n",
       "      <th>thal</th>\n",
       "      <th>target</th>\n",
       "    </tr>\n",
       "  </thead>\n",
       "  <tbody>\n",
       "    <tr>\n",
       "      <th>0</th>\n",
       "      <td>63</td>\n",
       "      <td>1</td>\n",
       "      <td>3</td>\n",
       "      <td>145</td>\n",
       "      <td>233</td>\n",
       "      <td>1</td>\n",
       "      <td>0</td>\n",
       "      <td>150</td>\n",
       "      <td>0</td>\n",
       "      <td>2.3</td>\n",
       "      <td>0</td>\n",
       "      <td>0</td>\n",
       "      <td>1</td>\n",
       "      <td>1</td>\n",
       "    </tr>\n",
       "    <tr>\n",
       "      <th>1</th>\n",
       "      <td>37</td>\n",
       "      <td>1</td>\n",
       "      <td>2</td>\n",
       "      <td>130</td>\n",
       "      <td>250</td>\n",
       "      <td>0</td>\n",
       "      <td>1</td>\n",
       "      <td>187</td>\n",
       "      <td>0</td>\n",
       "      <td>3.5</td>\n",
       "      <td>0</td>\n",
       "      <td>0</td>\n",
       "      <td>2</td>\n",
       "      <td>1</td>\n",
       "    </tr>\n",
       "    <tr>\n",
       "      <th>2</th>\n",
       "      <td>41</td>\n",
       "      <td>0</td>\n",
       "      <td>1</td>\n",
       "      <td>130</td>\n",
       "      <td>204</td>\n",
       "      <td>0</td>\n",
       "      <td>0</td>\n",
       "      <td>172</td>\n",
       "      <td>0</td>\n",
       "      <td>1.4</td>\n",
       "      <td>2</td>\n",
       "      <td>0</td>\n",
       "      <td>2</td>\n",
       "      <td>1</td>\n",
       "    </tr>\n",
       "    <tr>\n",
       "      <th>3</th>\n",
       "      <td>56</td>\n",
       "      <td>1</td>\n",
       "      <td>1</td>\n",
       "      <td>120</td>\n",
       "      <td>236</td>\n",
       "      <td>0</td>\n",
       "      <td>1</td>\n",
       "      <td>178</td>\n",
       "      <td>0</td>\n",
       "      <td>0.8</td>\n",
       "      <td>2</td>\n",
       "      <td>0</td>\n",
       "      <td>2</td>\n",
       "      <td>1</td>\n",
       "    </tr>\n",
       "    <tr>\n",
       "      <th>4</th>\n",
       "      <td>57</td>\n",
       "      <td>0</td>\n",
       "      <td>0</td>\n",
       "      <td>120</td>\n",
       "      <td>354</td>\n",
       "      <td>0</td>\n",
       "      <td>1</td>\n",
       "      <td>163</td>\n",
       "      <td>1</td>\n",
       "      <td>0.6</td>\n",
       "      <td>2</td>\n",
       "      <td>0</td>\n",
       "      <td>2</td>\n",
       "      <td>1</td>\n",
       "    </tr>\n",
       "  </tbody>\n",
       "</table>\n",
       "</div>"
      ],
      "text/plain": [
       "   age  sex  cp  trestbps  chol  fbs  restecg  thalach  exang  oldpeak  slope  \\\n",
       "0   63    1   3       145   233    1        0      150      0      2.3      0   \n",
       "1   37    1   2       130   250    0        1      187      0      3.5      0   \n",
       "2   41    0   1       130   204    0        0      172      0      1.4      2   \n",
       "3   56    1   1       120   236    0        1      178      0      0.8      2   \n",
       "4   57    0   0       120   354    0        1      163      1      0.6      2   \n",
       "\n",
       "   ca  thal  target  \n",
       "0   0     1       1  \n",
       "1   0     2       1  \n",
       "2   0     2       1  \n",
       "3   0     2       1  \n",
       "4   0     2       1  "
      ]
     },
     "execution_count": 2,
     "metadata": {},
     "output_type": "execute_result"
    }
   ],
   "source": [
    "df = pd.read_csv('heart.csv')\n",
    "df.head(5)"
   ]
  },
  {
   "cell_type": "code",
   "execution_count": 3,
   "metadata": {
    "scrolled": true,
    "slideshow": {
     "slide_type": "slide"
    }
   },
   "outputs": [
    {
     "data": {
      "text/plain": [
       "<catboost.core.CatBoostClassifier at 0x7fa0cdcde128>"
      ]
     },
     "execution_count": 3,
     "metadata": {},
     "output_type": "execute_result"
    }
   ],
   "source": [
    "model = catboost.CatBoostClassifier()\n",
    "model.fit(X=df.drop(columns='target'), y=df['target'], verbose=False)"
   ]
  },
  {
   "cell_type": "code",
   "execution_count": 4,
   "metadata": {},
   "outputs": [
    {
     "data": {
      "text/plain": [
       "array([0.1016251, 0.8983749])"
      ]
     },
     "execution_count": 4,
     "metadata": {},
     "output_type": "execute_result"
    }
   ],
   "source": [
    "# in production you do the following:\n",
    "\n",
    "model.predict_proba([63, 1, 3, 145, 233, 1, 0, 160, 0, 2.5, 0, 0, 1])"
   ]
  },
  {
   "cell_type": "markdown",
   "metadata": {
    "slideshow": {
     "slide_type": "slide"
    }
   },
   "source": [
    "### How do we put models into production?\n",
    "\n",
    "- Batch jobs\n",
    "- Microservices\n",
    "- Integration into application code"
   ]
  },
  {
   "cell_type": "markdown",
   "metadata": {
    "slideshow": {
     "slide_type": "slide"
    }
   },
   "source": [
    "### Batch jobs\n",
    "\n",
    "- Something that is execute every now and when (e.g. daily)\n",
    "- Might be a simple Python script, MapReduce job, Spark job, ...\n",
    "- The easiest way as you don't need to change much"
   ]
  },
  {
   "cell_type": "markdown",
   "metadata": {
    "slideshow": {
     "slide_type": "slide"
    }
   },
   "source": [
    "### Batch job example"
   ]
  },
  {
   "cell_type": "code",
   "execution_count": 5,
   "metadata": {},
   "outputs": [
    {
     "name": "stdout",
     "output_type": "stream",
     "text": [
      ",age,sex,cp,trestbps,chol,fbs,restecg,thalach,exang,oldpeak,slope,ca,thal,target,prediction\r\n",
      "0,63,1,3,145,233,1,0,150,0,2.3,0,0,1,1,1.0\r\n",
      "1,37,1,2,130,250,0,1,187,0,3.5,0,0,2,1,1.0\r\n",
      "2,41,0,1,130,204,0,0,172,0,1.4,2,0,2,1,1.0\r\n",
      "3,56,1,1,120,236,0,1,178,0,0.8,2,0,2,1,1.0\r\n"
     ]
    }
   ],
   "source": [
    "# execute at 0:00\n",
    "\n",
    "batch = pd.read_csv('heart.csv')\n",
    "batch['prediction'] = model.predict(batch.drop(columns='target'))\n",
    "filename = 'result%s.csv' % (datetime.datetime.now())\n",
    "batch.to_csv(filename)\n",
    "\n",
    "! head -5 \"$filename\""
   ]
  },
  {
   "cell_type": "markdown",
   "metadata": {
    "slideshow": {
     "slide_type": "slide"
    }
   },
   "source": [
    "### Microservices"
   ]
  },
  {
   "cell_type": "markdown",
   "metadata": {
    "slideshow": {
     "slide_type": "slide"
    }
   },
   "source": [
    "### Microservice example"
   ]
  },
  {
   "cell_type": "code",
   "execution_count": 6,
   "metadata": {},
   "outputs": [
    {
     "name": "stdout",
     "output_type": "stream",
     "text": [
      " * Serving Flask app \"__main__\" (lazy loading)\n",
      " * Environment: production\n",
      "\u001b[31m   WARNING: This is a development server. Do not use it in a production deployment.\u001b[0m\n",
      "\u001b[2m   Use a production WSGI server instead.\u001b[0m\n",
      " * Debug mode: off\n"
     ]
    },
    {
     "name": "stderr",
     "output_type": "stream",
     "text": [
      " * Running on http://127.0.0.1:5000/ (Press CTRL+C to quit)\n"
     ]
    }
   ],
   "source": [
    "from flask import Flask, request, jsonify\n",
    "app = Flask(__name__)\n",
    "\n",
    "@app.route('/')\n",
    "def apply_model():\n",
    "    return jsonify(list(model.predict_proba(request.json)))\n",
    "\n",
    "app.run()"
   ]
  },
  {
   "cell_type": "markdown",
   "metadata": {},
   "source": [
    "```curl --header \"Content-Type: application/json\" -XGET --data \"[0,63,1,3,145,233,1,0,150,0,2.3,0,0,1]\" localhost:5000\n",
    "[0.11089046083115017,0.8891095391688498]```"
   ]
  },
  {
   "cell_type": "markdown",
   "metadata": {
    "slideshow": {
     "slide_type": "slide"
    }
   },
   "source": [
    "### Integration into application code\n",
    "\n",
    "- Most of ML happens in Python or R\n",
    "- Most of the applications are Java-based\n",
    "- You're lucky if your app runs python\n",
    "- Most of the time your code diverges: how can you know that sklearn.RandomForest in Python is the same as whateverlibrary.RandomForest in Java??"
   ]
  },
  {
   "cell_type": "markdown",
   "metadata": {
    "slideshow": {
     "slide_type": "slide"
    }
   },
   "source": [
    "### CoreML, Tensorflow Serving + ONNX\n",
    "\n",
    "- CoreML was one of the first endeavours to provide unified format\n",
    "- Tensorflow Serving was introduced later\n",
    "- The workflow is to train (Python) -> export (standard format) -> apply (common languages)\n",
    "- Expect similar libraries and tools to appear during the next years"
   ]
  },
  {
   "cell_type": "code",
   "execution_count": 7,
   "metadata": {
    "slideshow": {
     "slide_type": "slide"
    }
   },
   "outputs": [
    {
     "data": {
      "text/plain": [
       "b'\\x08\\x01\\x12\\x81\\x1d\\n\\x0f\\n\\tfeature_0\\x1a\\x02\\x12\\x00\\n\\x0f\\n\\tfeature_1\\x1a\\x02\\x12\\x00\\n\\x0f\\n\\tfeature_2\\x1a\\x02\\x12\\x00\\n\\x0f\\n\\tfeature_3\\x1a\\x02\\x12\\x00\\n\\x0f\\n\\tfeature_4\\x1a\\x02\\x12\\x00\\n\\x0f\\n\\tfeature_5\\x1a\\x02\\x12\\x00\\n\\x0f\\n\\tfeature_6\\x1a\\x02\\x12\\x00\\n\\x0f\\n\\tfeature_7\\x1a\\x02\\x12\\x00\\n\\x0f\\n\\tfeature_8\\x1a\\x02\\x12\\x00\\n\\x0f\\n\\tfeature_9\\x1a\\x02\\x12\\x00\\n\\x10\\n\\nfeature_10\\x1a\\x02\\x12\\x00\\n\\x10\\n\\nfeature_11\\x1a\\x02\\x12\\x00\\n\\x10\\n\\nfeature_12\\x1a\\x02\\x12\\x00R\\x17\\n\\nprediction\\x1a\\t*\\x07\\n\\x01\\x01\\x10\\xc0\\x80\\x04Z\\npredictionb\\nprediction\\xa2\\x06\\xec\\x1a\\n\\x0eCatboost model\\x12\\x05'"
      ]
     },
     "execution_count": 7,
     "metadata": {},
     "output_type": "execute_result"
    }
   ],
   "source": [
    "model.save_model(format='coreml', fname='model.coreml')\n",
    "\n",
    "open('model.coreml', mode='rb').read(300)"
   ]
  },
  {
   "cell_type": "markdown",
   "metadata": {
    "slideshow": {
     "slide_type": "slide"
    }
   },
   "source": [
    "### The Rules of Machine Learning\n",
    "\n",
    "As based on a paper by Martin Zinkevich (http://martin.zinkevich.org/rules_of_ml/rules_of_ml.pdf)"
   ]
  },
  {
   "cell_type": "markdown",
   "metadata": {
    "slideshow": {
     "slide_type": "slide"
    }
   },
   "source": [
    "### Your first product could use no machine learning at all\n",
    "\n",
    "- Most of the time you don't even have the training data\n",
    "- If you're recommending stuff just recommend something popular\n",
    "- Very simple things might bootstrap the product"
   ]
  },
  {
   "cell_type": "markdown",
   "metadata": {
    "slideshow": {
     "slide_type": "slide"
    }
   },
   "source": [
    "### First thing to do is to measure the quality of your model\n",
    "\n",
    "- You've got to define a metric and track it\n",
    "- The earlier you start the longer your metric history becomes\n",
    "- Nobody likes to implement that but you *have to*"
   ]
  },
  {
   "cell_type": "markdown",
   "metadata": {
    "slideshow": {
     "slide_type": "slide"
    }
   },
   "source": [
    "### Your heuristics are features\n",
    "\n",
    "- You will get a lot of requests from product managers and other people\n",
    "- Heuristic: \"I believe you should use the time of the day and exclude any scary videos at night\"\n",
    "- Let the ML decide but make the heuristic a feature to be used"
   ]
  },
  {
   "cell_type": "markdown",
   "metadata": {
    "slideshow": {
     "slide_type": "slide"
    }
   },
   "source": [
    "### Watch for silent failures\n",
    "\n",
    "- The machine learning algorithms are failing silently\n",
    "- Check metrics regularly and check for changes in your data and/or environment\n",
    "- The worst way to track bugs is to get bugreports from users"
   ]
  },
  {
   "cell_type": "markdown",
   "metadata": {
    "slideshow": {
     "slide_type": "slide"
    }
   },
   "source": [
    "### Design and plan to iterate\n",
    "\n",
    "- You will change the algorithm and features sooner or later\n",
    "- Make it easy to add new features and try new algorithms\n",
    "- Do not fall in love with specific algorithms and features"
   ]
  },
  {
   "cell_type": "markdown",
   "metadata": {
    "slideshow": {
     "slide_type": "slide"
    }
   },
   "source": [
    "### Reuse the code as much as possible\n",
    "\n",
    "- If you have training in Python and inference (apply, ..) in Java you're in danger\n",
    "- Write tests and check metrics if your predictions are still consistent"
   ]
  },
  {
   "cell_type": "markdown",
   "metadata": {
    "slideshow": {
     "slide_type": "slide"
    }
   },
   "source": [
    "### Avoid feedback loop\n",
    "\n",
    "- It is easy to be trapped in a loop so think of architecture\n",
    "- The worst thing about feedback loop is that you can't do anything\n",
    "- Filter bubbles and all the other stuffs are worrysome, too"
   ]
  },
  {
   "cell_type": "markdown",
   "metadata": {
    "slideshow": {
     "slide_type": "slide"
    }
   },
   "source": [
    "### Keep things simple\n",
    "\n",
    "- It is not only CPU-consuming to have too many models\n",
    "- One day a model might fail to train or start to produce gibberish\n",
    "- The more parts you have the less reliable it becomes"
   ]
  },
  {
   "cell_type": "markdown",
   "metadata": {
    "slideshow": {
     "slide_type": "slide"
    }
   },
   "source": [
    "## Reporting to executives (and your thesis)\n",
    "\n",
    "- Propose using different algorithms\n",
    "- Provide a baseline: what is the simplest possible solution to your problem?\n",
    "- Provide error bars: it is not 97% but 97±0.2%\n",
    "- Explain your key metrics first, e.g. accuracy 55% sounds horrible — but what about 10000 classes?\n",
    "- Communicate the most important features (google: feature importance)"
   ]
  },
  {
   "cell_type": "markdown",
   "metadata": {
    "slideshow": {
     "slide_type": "skip"
    }
   },
   "source": [
    "## Questions I can ask\n",
    "\n",
    "- How many parts should you split you data and why?\n",
    "- When would you use a linear model?\n",
    "- What is common between gradient boosting and random forest?\n",
    "- What is the typical data you apply gradient boosting to?\n",
    "- What would you use neural networks for?\n",
    "- What is the difference between metric and loss?\n",
    "- What are the metrics for regression problems?\n",
    "- What are the metrics for classification problems?\n",
    "- What is the bias/variance tradeoff?\n",
    "- What is the idea of bootstrapping?\n",
    "- What is the role of regularization? What ways of regularizing do you know?\n",
    "- How do we find the coefficients of a linear model?\n",
    "- How do we create the splits in decision trees?\n",
    "- What is overfitting and underfitting?\n",
    "- What is the idea of kNN classifier?\n",
    "- What is the clustering problem?"
   ]
  }
 ],
 "metadata": {
  "celltoolbar": "Slideshow",
  "kernelspec": {
   "display_name": "Python 3",
   "language": "python",
   "name": "python3"
  },
  "language_info": {
   "codemirror_mode": {
    "name": "ipython",
    "version": 3
   },
   "file_extension": ".py",
   "mimetype": "text/x-python",
   "name": "python",
   "nbconvert_exporter": "python",
   "pygments_lexer": "ipython3",
   "version": "3.6.13"
  }
 },
 "nbformat": 4,
 "nbformat_minor": 2
}
